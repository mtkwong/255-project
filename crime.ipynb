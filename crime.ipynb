{
 "cells": [
  {
   "cell_type": "markdown",
   "metadata": {},
   "source": [
    "# An Analysis of Chicago Crime\n",
    "CMPE 255 SP18 Section 02<br/>\n",
    "Team name: **Team 3**<br/>\n",
    "Team members: Matthew Kwong, Nachiketa Rajpurohit, Amogh Ramaswamy\n",
    "\n",
    "## Introduction\n",
    "How has crime in Chicago changed over the years? Are there discernable patterns or trends that might help to predict when or where a crime will be committed? Which areas of the city are more at-risk, and for what crime types? These are just a few of the questions that we hope to explore in this project. Answering these questions would potentially have a great impact in the way that police departments attempt to combat crime.\n",
    "\n",
    "The dataset for our project can be found on the city of Chicago's public data portal: [Crimes in Chicago, 2001-2017](https://data.cityofchicago.org/Public-Safety/Crimes-2001-to-present/ijzp-q8t2/data)<br/>\n",
    "For our project, we will be using a subset of the data, only including the crimes reported from 2012-2017. We made this decision because it would help speed up processing and allow us to analyze the data on our local machines, and because we figured that more recent data would be a better predictor of future events or patterns. This subset includes over 1.4 million records."
   ]
  },
  {
   "cell_type": "code",
   "execution_count": 7,
   "metadata": {},
   "outputs": [
    {
     "name": "stdout",
     "output_type": "stream",
     "text": [
      "(1456714, 23)\n"
     ]
    }
   ],
   "source": [
    "import pandas as pd\n",
    "import numpy as np\n",
    "\n",
    "crime_data = pd.read_csv('Chicago_Crimes_2012_to_2017.csv')\n",
    "print(np.array(crime_data).shape)"
   ]
  },
  {
   "cell_type": "code",
   "execution_count": null,
   "metadata": {
    "collapsed": true
   },
   "outputs": [],
   "source": []
  }
 ],
 "metadata": {
  "kernelspec": {
   "display_name": "Python 2",
   "language": "python",
   "name": "python2"
  },
  "language_info": {
   "codemirror_mode": {
    "name": "ipython",
    "version": 2
   },
   "file_extension": ".py",
   "mimetype": "text/x-python",
   "name": "python",
   "nbconvert_exporter": "python",
   "pygments_lexer": "ipython2",
   "version": "2.7.14"
  }
 },
 "nbformat": 4,
 "nbformat_minor": 2
}
