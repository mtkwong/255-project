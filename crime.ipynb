import pandas as pd
import numpy as np

crime_data = pd.read_csv('Chicago_Crimes_2012_to_2017.csv')
crime_data